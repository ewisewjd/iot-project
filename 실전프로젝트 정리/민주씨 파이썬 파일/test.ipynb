{
 "cells": [
  {
   "cell_type": "markdown",
   "id": "7b261024",
   "metadata": {},
   "source": [
    "## 파일 업로드\n",
    "- https://flask.palletsprojects.com/en/2.2.x/patterns/fileuploads/"
   ]
  },
  {
   "cell_type": "code",
   "execution_count": null,
   "id": "476cd8b3",
   "metadata": {},
   "outputs": [],
   "source": []
  },
  {
   "cell_type": "markdown",
   "id": "a32446b4",
   "metadata": {},
   "source": [
    "## OracleDB"
   ]
  },
  {
   "cell_type": "code",
   "execution_count": 1,
   "id": "f570ebca",
   "metadata": {
    "scrolled": true
   },
   "outputs": [],
   "source": [
    "import cx_Oracle\n",
    "import os\n",
    "\n",
    "# DB 접속|\n",
    "def conn_db() :\n",
    "    os.putenv('NLS_LANG', '.UTF8') # 한글 지원하기    \n",
    "    conn = cx_Oracle.connect('dct','1234','project-db-stu.ddns.net:1524/xe')\n",
    "    cursor = conn.cursor()\n",
    "    return conn, cursor\n",
    "\n",
    "# DB 접속 해제\n",
    "def close_db(conn, cursor) :\n",
    "    cursor.close()\n",
    "    conn.close()"
   ]
  },
  {
   "cell_type": "markdown",
   "id": "db889086",
   "metadata": {},
   "source": [
    "## 설계도 업로드"
   ]
  },
  {
   "cell_type": "code",
   "execution_count": 2,
   "id": "12e6c148",
   "metadata": {},
   "outputs": [],
   "source": [
    "from datetime import datetime\n",
    "UPLOAD_FOLDER = './static/upload'\n",
    "ALLOWED_EXTENSIONS = {'png', 'jpg', 'jpeg'}\n",
    "\n",
    "\n",
    "def allowed_file(filename):\n",
    "    return '.' in filename and \\\n",
    "           filename.rsplit('.', 1)[1].lower() in ALLOWED_EXTENSIONS and filename not in os.listdir(UPLOAD_FOLDER)\n",
    "\n",
    "def set_filename(filename, a_name) :\n",
    "    ext = filename.rsplit('.', 1)[1]\n",
    "    now = datetime.now().strftime('%Y%m%d%H%M%S')\n",
    "    return f\"{a_name}_{now}.{ext}\"\n",
    "    \n",
    "# 공간 등록\n",
    "def areaNameCk(M_NO, A_NAME, filename) :\n",
    "    try :\n",
    "        conn, cursor = conn_db()  # DB 접속\n",
    "        A_SRC = set_filename(filename)\n",
    "        query = f\"\"\"INSERT INTO AREA (M_NO, A_NAME, A_SRC) VALUES (:1, :2, :3)\"\"\"\n",
    "        cursor.execute(query, [M_NO, A_NAME, A_SRC])  # 쿼리문 실행 \n",
    "        conn.commit()\n",
    "        return True\n",
    "    except :\n",
    "        return False"
   ]
  },
  {
   "cell_type": "code",
   "execution_count": null,
   "id": "c27e727e",
   "metadata": {},
   "outputs": [
    {
     "name": "stdout",
     "output_type": "stream",
     "text": [
      " * Serving Flask app '__main__'\n",
      " * Debug mode: off\n"
     ]
    },
    {
     "name": "stderr",
     "output_type": "stream",
     "text": [
      "WARNING: This is a development server. Do not use it in a production deployment. Use a production WSGI server instead.\n",
      " * Running on http://192.168.70.63:2048\n",
      "Press CTRL+C to quit\n",
      "192.168.70.63 - - [06/Dec/2022 18:02:46] \"GET / HTTP/1.1\" 200 -\n",
      "192.168.70.63 - - [06/Dec/2022 18:02:46] \"GET /static/bootstrap.bundle.min.js HTTP/1.1\" 304 -\n",
      "192.168.70.63 - - [06/Dec/2022 18:02:46] \"GET /static/bootstrap.min.css HTTP/1.1\" 304 -\n",
      "192.168.70.63 - - [06/Dec/2022 18:02:46] \"GET /static/bootstrap.css HTTP/1.1\" 304 -\n",
      "192.168.70.63 - - [06/Dec/2022 18:02:46] \"GET /static/test.js HTTP/1.1\" 304 -\n",
      "192.168.70.63 - - [06/Dec/2022 18:02:54] \"POST /set/map/upload_result HTTP/1.1\" 400 -\n"
     ]
    },
    {
     "name": "stdout",
     "output_type": "stream",
     "text": [
      "토마토\n"
     ]
    }
   ],
   "source": [
    "from flask import Flask, session, request, render_template, redirect, url_for, jsonify, send_from_directory\n",
    "from werkzeug.utils import secure_filename\n",
    "from datetime import timedelta\n",
    "import random\n",
    "\n",
    "\n",
    "app = Flask(__name__)\n",
    "app.secret_key = f\"I'm_on_TOP!{random.randint(0, 99999):0>5}\"\n",
    "app.config[\"PERMANENT_SESSION_LIFETIME\"] = timedelta(minutes=10) # 로그인 지속 시간\n",
    "app.config['UPLOAD_FOLDER'] = UPLOAD_FOLDER\n",
    "\n",
    "\n",
    "@app.route('/')\n",
    "def main() :\n",
    "    return render_template('test.html')\n",
    "\n",
    "@app.route('/set/map/upload_result', methods=['POST'])\n",
    "def upload_file():\n",
    "    if request.method == 'POST':\n",
    "        # check if the post request has the file part\n",
    "        session['user_no'] = '17'\n",
    "        m_no = session['user_no']\n",
    "        a_name = request.form['A_NAME']\n",
    "        print(a_name)\n",
    "        file = request.files['file']\n",
    "        print(file)\n",
    "        # If the user does not select a file, the browser submits an\n",
    "        # empty file without a filename.\n",
    "        if file.filename == '':\n",
    "            return jsonify({'message':'파일을 선택해 주십시오.', 'result': False})\n",
    "\n",
    "        if file and allowed_file(file.filename):\n",
    "            filename = secure_filename(set_filename(file.filename, a_name))\n",
    "            file.save(os.path.join(app.config['UPLOAD_FOLDER'], filename))\n",
    "            if areaNameCk(m_no, a_name, filename):\n",
    "                return jsonify({'message':'농장 설계도가 등록되었습니다.', 'result': True})\n",
    "            else :\n",
    "                return jsonify({'message':'농장 설계도 등록 실패', 'result': False})\n",
    "        else :\n",
    "            return jsonify({'message':'이미지 파일을 선택해 주십시오.(확장자: jpg, png, jpeg)', 'result': False})\n",
    "\n",
    "    else :\n",
    "        return jsonify({'message':'로그인이 되어있지 않습니다.', 'result': False})\n",
    "\n",
    "@app.route('/uploads/<name>')\n",
    "def download_file(name):\n",
    "    return send_from_directory(app.config[\"UPLOAD_FOLDER\"], name)\n",
    "\n",
    "if __name__ == '__main__' :\n",
    "    app.run(host=\"192.168.70.63\", port=2048)"
   ]
  },
  {
   "cell_type": "code",
   "execution_count": null,
   "id": "d0e2fd77",
   "metadata": {},
   "outputs": [],
   "source": []
  },
  {
   "cell_type": "code",
   "execution_count": null,
   "id": "5b8a6c42",
   "metadata": {},
   "outputs": [],
   "source": []
  },
  {
   "cell_type": "code",
   "execution_count": null,
   "id": "21145372",
   "metadata": {
    "scrolled": true
   },
   "outputs": [],
   "source": [
    "from flask import Flask, flash, session, render_template, redirect, request, url_for\n",
    "from markupsafe import escape\n",
    "from datetime import timedelta, datetime\n",
    "import random\n",
    "from werkzeug.utils import secure_filename\n",
    "\n",
    "\n",
    "app = Flask(__name__)\n",
    "app.secret_key = f\"I'm_on_TOP!{random.randint(0, 99999):0>5}\"\n",
    "app.config[\"PERMANENT_SESSION_LIFETIME\"] = timedelta(minutes=60) # 로그인 지속 시간\n",
    "\n",
    "# 파일 업로드\n",
    "@app.route('/')\n",
    "def main() :\n",
    "    return render_template('test.html')\n",
    "\n",
    "@app.route('/upload', methods = ['POST'])\n",
    "def upload_file():\n",
    "    if request.method == 'POST':\n",
    "        try:\n",
    "            f = request.files['file']\n",
    "            print(f)\n",
    "            f.save('./static/upload/' + secure_filename(f.filename)) # 파일명을 보호하기 위한 함수, 지정된 경로에 파일 저장\n",
    "            return render_template('test.html')\n",
    "        except:\n",
    "            return render_template('test.html')\n",
    "    else:\n",
    "        return render_template('test.html')\n",
    "\n",
    "if __name__ == '__main__' :\n",
    "    app.run(host=\"192.168.70.63\", port=2048)"
   ]
  }
 ],
 "metadata": {
  "kernelspec": {
   "display_name": "Python 3 (ipykernel)",
   "language": "python",
   "name": "python3"
  },
  "language_info": {
   "codemirror_mode": {
    "name": "ipython",
    "version": 3
   },
   "file_extension": ".py",
   "mimetype": "text/x-python",
   "name": "python",
   "nbconvert_exporter": "python",
   "pygments_lexer": "ipython3",
   "version": "3.7.13"
  },
  "toc": {
   "base_numbering": 1,
   "nav_menu": {},
   "number_sections": false,
   "sideBar": true,
   "skip_h1_title": false,
   "title_cell": "Table of Contents",
   "title_sidebar": "Contents",
   "toc_cell": false,
   "toc_position": {},
   "toc_section_display": true,
   "toc_window_display": true
  }
 },
 "nbformat": 4,
 "nbformat_minor": 5
}
